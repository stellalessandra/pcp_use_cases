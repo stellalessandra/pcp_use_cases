{
 "cells": [
  {
   "cell_type": "markdown",
   "metadata": {},
   "source": [
    "**ASSET ANALYSIS**\n",
    "\n",
    "ASSET test on fMRI data provided by J. Schreiber.\n",
    "\n",
    "There are 300 time points (similar to binned spike trains) for 33865 source locations\n"
   ]
  },
  {
   "cell_type": "code",
   "execution_count": 1,
   "metadata": {
    "ExecuteTime": {
     "end_time": "2018-12-11T09:12:34.543075Z",
     "start_time": "2018-12-11T09:12:32.705084Z"
    }
   },
   "outputs": [],
   "source": [
    "# import packages\n",
    "\n",
    "import numpy as np\n",
    "import sys\n",
    "import neo\n",
    "import quantities as pq\n",
    "sys.path.append('./ASSET/')\n",
    "import asset\n",
    "import matplotlib.pyplot as plt"
   ]
  },
  {
   "cell_type": "code",
   "execution_count": 2,
   "metadata": {
    "ExecuteTime": {
     "end_time": "2018-12-11T09:12:42.596526Z",
     "start_time": "2018-12-11T09:12:36.553471Z"
    }
   },
   "outputs": [],
   "source": [
    "path = '../../ASSET_fMRI/'\n",
    "\n",
    "# data preprocessing in preprocessing_data.py file\n",
    "sts = np.load(path + 'activations_st.npy')\n",
    "\n",
    "# take only the first N channels\n",
    "number_of_channels = 33865\n",
    "sts = sts[0:number_of_channels]\n",
    "path = path + str(number_of_channels) + '/'"
   ]
  },
  {
   "cell_type": "markdown",
   "metadata": {},
   "source": [
    "Step 1:\n",
    "\n",
    "Build the intersection matrix (imat) and the associated probability matrix (pmat) with the desired binsize. Here we use 1s.\n"
   ]
  },
  {
   "cell_type": "code",
   "execution_count": 3,
   "metadata": {
    "ExecuteTime": {
     "end_time": "2018-12-11T09:12:44.440847Z",
     "start_time": "2018-12-11T09:12:44.434496Z"
    }
   },
   "outputs": [],
   "source": [
    "binsize = 1 * pq.s\n",
    "dt = 300 * pq.s"
   ]
  },
  {
   "cell_type": "code",
   "execution_count": null,
   "metadata": {},
   "outputs": [],
   "source": [
    "# build the intersection matrix and save it\n",
    "imat, xedges, yedges = asset.intersection_matrix(sts, binsize, dt, norm=2)\n",
    "np.save(path + 'imat%i.npy' % number_of_channels, imat)\n",
    "np.save(path + 'xedges%i.npy' % number_of_channels, xedges)\n",
    "np.save(path + 'yedges%i.npy' % number_of_channels, yedges)"
   ]
  },
  {
   "cell_type": "code",
   "execution_count": 4,
   "metadata": {
    "ExecuteTime": {
     "end_time": "2018-12-11T09:12:49.836070Z",
     "start_time": "2018-12-11T09:12:49.821461Z"
    }
   },
   "outputs": [],
   "source": [
    "# load the already computed intersection matrix\n",
    "imat = np.load(path + 'imat%i.npy' % number_of_channels)\n",
    "xedges = np.load(path + 'xedges%i.npy' % number_of_channels)\n",
    "yedges = np.load(path + 'yedges%i.npy' % number_of_channels)"
   ]
  },
  {
   "cell_type": "code",
   "execution_count": null,
   "metadata": {},
   "outputs": [],
   "source": [
    "# calculate the probability matrix and save it\n",
    "pmat, xedges, yedges = asset.probability_matrix_analytical(spiketrains=sts,\n",
    "                                                           binsize=binsize,\n",
    "                                                           dt=dt,\n",
    "                                                           kernel_width=10*pq.s)\n",
    "np.save(path + 'pmat%i.npy' % number_of_channels, pmat)"
   ]
  },
  {
   "cell_type": "code",
   "execution_count": 5,
   "metadata": {
    "ExecuteTime": {
     "end_time": "2018-12-11T09:12:53.547116Z",
     "start_time": "2018-12-11T09:12:53.533340Z"
    }
   },
   "outputs": [],
   "source": [
    "# load the already computed probability matrix\n",
    "pmat = np.load(path + 'pmat%i.npy' % number_of_channels)"
   ]
  },
  {
   "cell_type": "markdown",
   "metadata": {},
   "source": [
    "Step 2:\n",
    "\n",
    "Compute the joint probability matrix jmat, using a suitable filter"
   ]
  },
  {
   "cell_type": "code",
   "execution_count": 12,
   "metadata": {
    "ExecuteTime": {
     "end_time": "2018-12-04T08:16:37.169163Z",
     "start_time": "2018-12-04T08:15:16.341782Z"
    }
   },
   "outputs": [
    {
     "name": "stderr",
     "output_type": "stream",
     "text": [
      "/home/stella/Documents/Juelich/projects/forks/pcp_use_cases/ASSET/asset.py:1189: RuntimeWarning: divide by zero encountered in log\n",
      "  dU_log = np.log(dU)\n"
     ]
    }
   ],
   "source": [
    "filter_shape = (5,2)  # filter shape\n",
    "nr_neigh = 5  # nr of largest neighbors\n",
    "# calculate the joint probability matrix\n",
    "jmat = asset.joint_probability_matrix(pmat, filter_shape, nr_neigh)\n",
    "np.save(path + 'jmat%i.npy' % number_of_channels, jmat)"
   ]
  },
  {
   "cell_type": "code",
   "execution_count": 6,
   "metadata": {
    "ExecuteTime": {
     "end_time": "2018-12-11T09:13:12.769572Z",
     "start_time": "2018-12-11T09:13:12.756718Z"
    }
   },
   "outputs": [],
   "source": [
    "# load the joint probability matrix\n",
    "jmat = np.load(path + 'jmat%i.npy' % number_of_channels)"
   ]
  },
  {
   "cell_type": "markdown",
   "metadata": {},
   "source": [
    "Step 3:\n",
    "\n",
    "Create from pmat and jmat a masked version of the intersection matrix"
   ]
  },
  {
   "cell_type": "code",
   "execution_count": 13,
   "metadata": {
    "ExecuteTime": {
     "end_time": "2018-12-04T08:16:37.217657Z",
     "start_time": "2018-12-04T08:16:37.212391Z"
    }
   },
   "outputs": [],
   "source": [
    "alpha1 = 0.99\n",
    "alpha2 = 0.99999\n",
    "mask = asset.mask_matrices([pmat, jmat], [alpha1, alpha2])\n",
    "np.save(path + 'mask%i.npy' % number_of_channels, mask)"
   ]
  },
  {
   "cell_type": "code",
   "execution_count": 7,
   "metadata": {
    "ExecuteTime": {
     "end_time": "2018-12-11T09:13:21.172429Z",
     "start_time": "2018-12-11T09:13:21.161036Z"
    }
   },
   "outputs": [],
   "source": [
    "# load the masked matrix\n",
    "mask = np.load(path + 'mask%i.npy' % number_of_channels)"
   ]
  },
  {
   "cell_type": "markdown",
   "metadata": {},
   "source": [
    "Step 4:\n",
    "\n",
    "Cluster significant elements of imat into diagonal structures (\"DSs\")"
   ]
  },
  {
   "cell_type": "code",
   "execution_count": 14,
   "metadata": {
    "ExecuteTime": {
     "end_time": "2018-12-04T08:16:37.266122Z",
     "start_time": "2018-12-04T08:16:37.253779Z"
    }
   },
   "outputs": [
    {
     "name": "stderr",
     "output_type": "stream",
     "text": [
      "/home/stella/Documents/Juelich/projects/forks/pcp_use_cases/ASSET/asset.py:725: RuntimeWarning: divide by zero encountered in true_divide\n",
      "  AngCoeff = dY / dX\n",
      "/home/stella/Documents/Juelich/projects/forks/pcp_use_cases/ASSET/asset.py:725: RuntimeWarning: invalid value encountered in true_divide\n",
      "  AngCoeff = dY / dX\n"
     ]
    }
   ],
   "source": [
    "epsilon = 10\n",
    "minsize = 2\n",
    "stretch = 2\n",
    "\n",
    "cmat = asset.cluster_matrix_entries(mask, epsilon, minsize, stretch)\n",
    "np.save(path + 'cmat%i.npy' % number_of_channels, cmat)"
   ]
  },
  {
   "cell_type": "code",
   "execution_count": 8,
   "metadata": {
    "ExecuteTime": {
     "end_time": "2018-12-11T09:13:41.309593Z",
     "start_time": "2018-12-11T09:13:41.298792Z"
    }
   },
   "outputs": [],
   "source": [
    "cmat = np.load(path + 'cmat%i.npy' % number_of_channels)"
   ]
  },
  {
   "cell_type": "markdown",
   "metadata": {},
   "source": [
    "Step 5:\n",
    "\n",
    "Extract sequences of synchronous events associated to each worm"
   ]
  },
  {
   "cell_type": "code",
   "execution_count": 15,
   "metadata": {
    "ExecuteTime": {
     "end_time": "2018-12-04T08:16:37.524415Z",
     "start_time": "2018-12-04T08:16:37.318323Z"
    }
   },
   "outputs": [],
   "source": [
    "sse = asset.extract_sse(sts, xedges, yedges, cmat)\n",
    "np.save(path + 'sse%i.npy' % number_of_channels, sse)"
   ]
  },
  {
   "cell_type": "code",
   "execution_count": 16,
   "metadata": {
    "ExecuteTime": {
     "end_time": "2018-12-11T09:15:28.430584Z",
     "start_time": "2018-12-11T09:15:28.184440Z"
    }
   },
   "outputs": [
    {
     "ename": "IndexError",
     "evalue": "too many indices for array",
     "output_type": "error",
     "traceback": [
      "\u001b[0;31m---------------------------------------------------------------------------\u001b[0m",
      "\u001b[0;31mIndexError\u001b[0m                                Traceback (most recent call last)",
      "\u001b[0;32m<ipython-input-16-a8ade24bd242>\u001b[0m in \u001b[0;36m<module>\u001b[0;34m()\u001b[0m\n\u001b[1;32m     20\u001b[0m '''\n\u001b[1;32m     21\u001b[0m \u001b[0msse\u001b[0m \u001b[0;34m=\u001b[0m \u001b[0mnp\u001b[0m\u001b[0;34m.\u001b[0m\u001b[0mload\u001b[0m\u001b[0;34m(\u001b[0m\u001b[0mpath\u001b[0m \u001b[0;34m+\u001b[0m \u001b[0;34m'sse%i.npy'\u001b[0m \u001b[0;34m%\u001b[0m \u001b[0mnumber_of_channels\u001b[0m\u001b[0;34m)\u001b[0m\u001b[0;34m\u001b[0m\u001b[0m\n\u001b[0;32m---> 22\u001b[0;31m \u001b[0msse\u001b[0m\u001b[0;34m[\u001b[0m\u001b[0;36m1\u001b[0m\u001b[0;34m]\u001b[0m\u001b[0;34m\u001b[0m\u001b[0m\n\u001b[0m",
      "\u001b[0;31mIndexError\u001b[0m: too many indices for array"
     ]
    }
   ],
   "source": [
    "# peak of the results\n",
    "'''\n",
    "sse : dict\n",
    "    a dictionary D of SSEs, where each SSE is a sub-dictionary Dk,\n",
    "    k=1,...,K, where K is the total number of clusters in cmat:\n",
    "\n",
    "    .. centered:: D = {1: D1, 2: D2, ..., K: DK}\n",
    "\n",
    "    Each sub-dictionary Dk represents the k-th diagonal structure\n",
    "    (i.e. the k-th cluster) in cmat, and is of the form\n",
    "\n",
    "    .. centered:: Dk = {(i1, j1): S1, (i2, j2): S2, ..., (iL, jL): SL}.\n",
    "\n",
    "    The keys (i, j) represent the positions (time bin ids) of all\n",
    "    elements in cmat that compose the SSE, i.e. that take value l (and\n",
    "    therefore belong to the same cluster), and the values Sk are sets of\n",
    "    neuron ids representing a repeated synchronous event (i.e. spiking\n",
    "    at time bins i and j).\n",
    "\n",
    "'''\n",
    "sse = np.load(path + 'sse%i.npy' % number_of_channels)\n",
    "sse[1]"
   ]
  },
  {
   "cell_type": "code",
   "execution_count": 11,
   "metadata": {
    "ExecuteTime": {
     "end_time": "2018-12-11T09:14:16.501701Z",
     "start_time": "2018-12-11T09:14:16.273014Z"
    }
   },
   "outputs": [
    {
     "ename": "AttributeError",
     "evalue": "'numpy.ndarray' object has no attribute 'keys'",
     "output_type": "error",
     "traceback": [
      "\u001b[0;31m---------------------------------------------------------------------------\u001b[0m",
      "\u001b[0;31mAttributeError\u001b[0m                            Traceback (most recent call last)",
      "\u001b[0;32m<ipython-input-11-8dac79391df2>\u001b[0m in \u001b[0;36m<module>\u001b[0;34m()\u001b[0m\n\u001b[1;32m      3\u001b[0m \u001b[0mfig1\u001b[0m \u001b[0;34m=\u001b[0m \u001b[0mplt\u001b[0m\u001b[0;34m.\u001b[0m\u001b[0mfigure\u001b[0m\u001b[0;34m(\u001b[0m\u001b[0mfigsize\u001b[0m\u001b[0;34m=\u001b[0m\u001b[0;34m(\u001b[0m\u001b[0;36m25\u001b[0m\u001b[0;34m*\u001b[0m\u001b[0minch2cm\u001b[0m\u001b[0;34m,\u001b[0m \u001b[0;36m10\u001b[0m\u001b[0;34m*\u001b[0m\u001b[0minch2cm\u001b[0m\u001b[0;34m)\u001b[0m\u001b[0;34m)\u001b[0m\u001b[0;34m\u001b[0m\u001b[0m\n\u001b[1;32m      4\u001b[0m \u001b[0max1\u001b[0m \u001b[0;34m=\u001b[0m \u001b[0mfig1\u001b[0m\u001b[0;34m.\u001b[0m\u001b[0madd_subplot\u001b[0m\u001b[0;34m(\u001b[0m\u001b[0;36m111\u001b[0m\u001b[0;34m)\u001b[0m\u001b[0;34m\u001b[0m\u001b[0m\n\u001b[0;32m----> 5\u001b[0;31m \u001b[0mnumber_sses\u001b[0m \u001b[0;34m=\u001b[0m \u001b[0mlen\u001b[0m\u001b[0;34m(\u001b[0m\u001b[0msse\u001b[0m\u001b[0;34m.\u001b[0m\u001b[0mkeys\u001b[0m\u001b[0;34m(\u001b[0m\u001b[0;34m)\u001b[0m\u001b[0;34m)\u001b[0m\u001b[0;34m\u001b[0m\u001b[0m\n\u001b[0m\u001b[1;32m      6\u001b[0m \u001b[0;32mfor\u001b[0m \u001b[0mi\u001b[0m\u001b[0;34m,\u001b[0m \u001b[0mst\u001b[0m \u001b[0;32min\u001b[0m \u001b[0menumerate\u001b[0m\u001b[0;34m(\u001b[0m\u001b[0msts\u001b[0m\u001b[0;34m)\u001b[0m\u001b[0;34m:\u001b[0m\u001b[0;34m\u001b[0m\u001b[0m\n\u001b[1;32m      7\u001b[0m     \u001b[0;32mfor\u001b[0m \u001b[0mn\u001b[0m \u001b[0;32min\u001b[0m \u001b[0mst\u001b[0m\u001b[0;34m:\u001b[0m\u001b[0;34m\u001b[0m\u001b[0m\n",
      "\u001b[0;31mAttributeError\u001b[0m: 'numpy.ndarray' object has no attribute 'keys'"
     ]
    },
    {
     "data": {
      "image/png": "[encoded data removed]",
      "text/plain": [
       "<Figure size 708.66x283.464 with 1 Axes>"
      ]
     },
     "metadata": {
      "needs_background": "light"
     },
     "output_type": "display_data"
    }
   ],
   "source": [
    "# plotting of the SSEs found in the data\n",
    "inch2cm = 0.3937\n",
    "fig1 = plt.figure(figsize=(25*inch2cm, 10*inch2cm))\n",
    "ax1 = fig1.add_subplot(111)\n",
    "number_sses = len(sse.keys())\n",
    "for i, st in enumerate(sts):\n",
    "    for n in st:\n",
    "        ax1.set_xlim(0, 300)\n",
    "        ax1.set_ylim(-0.1, 100.1)\n",
    "        ax1.set_xlabel('time')\n",
    "        ax1.set_ylabel('neurons')\n",
    "        ax1.plot(n, i, '.', color='c')\n",
    "for index_sse in range(1, number_sses):\n",
    "    # number_repetitions = len(sse[index_sse])\n",
    "    for key, value in sse[index_sse].items():\n",
    "        for bin_item in key:\n",
    "            for neuron in value:\n",
    "                ax1.set_xlim(0, 300)\n",
    "                ax1.set_ylim(-0.1, 10.1)\n",
    "                ax1.set_xlabel('time')\n",
    "                ax1.set_ylabel('neurons')\n",
    "                ax1.set_title('SSEs extracted by ASSET')\n",
    "                ax1.plot(bin_item, neuron, '.', color='r')\n",
    "plt.show()"
   ]
  },
  {
   "cell_type": "code",
   "execution_count": null,
   "metadata": {
    "ExecuteTime": {
     "end_time": "2018-12-04T08:34:56.174326Z",
     "start_time": "2018-12-04T08:34:55.974308Z"
    }
   },
   "outputs": [],
   "source": [
    "\n"
   ]
  },
  {
   "cell_type": "code",
   "execution_count": null,
   "metadata": {},
   "outputs": [],
   "source": []
  }
 ],
 "metadata": {
  "kernelspec": {
   "display_name": "Python 2",
   "language": "python",
   "name": "python2"
  },
  "language_info": {
   "codemirror_mode": {
    "name": "ipython",
    "version": 3
   },
   "file_extension": ".py",
   "mimetype": "text/x-python",
   "name": "python",
   "nbconvert_exporter": "python",
   "pygments_lexer": "ipython3",
   "version": "3.6.6"
  },
  "latex_envs": {
   "LaTeX_envs_menu_present": true,
   "autoclose": false,
   "autocomplete": true,
   "bibliofile": "biblio.bib",
   "cite_by": "apalike",
   "current_citInitial": 1,
   "eqLabelWithNumbers": true,
   "eqNumInitial": 1,
   "hotkeys": {
    "equation": "Ctrl-E",
    "itemize": "Ctrl-I"
   },
   "labels_anchors": false,
   "latex_user_defs": false,
   "report_style_numbering": false,
   "user_envs_cfg": false
  },
  "toc": {
   "nav_menu": {},
   "number_sections": true,
   "sideBar": true,
   "skip_h1_title": false,
   "title_cell": "Table of Contents",
   "title_sidebar": "Contents",
   "toc_cell": false,
   "toc_position": {},
   "toc_section_display": true,
   "toc_window_display": false
  },
  "varInspector": {
   "cols": {
    "lenName": 16,
    "lenType": 16,
    "lenVar": 40
   },
   "kernels_config": {
    "python": {
     "delete_cmd_postfix": "",
     "delete_cmd_prefix": "del ",
     "library": "var_list.py",
     "varRefreshCmd": "print(var_dic_list())"
    },
    "r": {
     "delete_cmd_postfix": ") ",
     "delete_cmd_prefix": "rm(",
     "library": "var_list.r",
     "varRefreshCmd": "cat(var_dic_list()) "
    }
   },
   "types_to_exclude": [
    "module",
    "function",
    "builtin_function_or_method",
    "instance",
    "_Feature"
   ],
   "window_display": false
  }
 },
 "nbformat": 4,
 "nbformat_minor": 2
}
